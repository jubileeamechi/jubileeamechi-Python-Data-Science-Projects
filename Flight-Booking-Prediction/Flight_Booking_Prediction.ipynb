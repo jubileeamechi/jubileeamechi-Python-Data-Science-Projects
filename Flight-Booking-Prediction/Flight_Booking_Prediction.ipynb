{
 "cells": [
  {
   "cell_type": "markdown",
   "id": "d7c5bb58",
   "metadata": {},
   "source": [
    "# ✈️ Flight Booking Prediction\n",
    "\n",
    "This project uses customer travel data to predict whether a user will book a flight or not. It leverages classification models to help airlines identify likely conversions and optimize marketing efforts.\n",
    "\n",
    "## 📌 Objective\n",
    "To build a machine learning model that predicts whether a customer will complete a flight booking based on their activity, travel class, and demographics.\n",
    "\n",
    "## 📊 Dataset Overview\n",
    "- Features include: Gender, Age, Booking Mode, Travel Class, and more.\n",
    "- Target variable: `Booking_Status` (Booked / Not Booked)\n"
   ]
  },
  {
   "cell_type": "code",
   "execution_count": null,
   "id": "3c959f03",
   "metadata": {},
   "outputs": [],
   "source": [
    "# Basic libraries\n",
    "import pandas as pd\n",
    "import numpy as np\n",
    "\n",
    "# Visualization\n",
    "import matplotlib.pyplot as plt\n",
    "import seaborn as sns\n",
    "\n",
    "# Machine Learning\n",
    "from sklearn.model_selection import train_test_split\n",
    "from sklearn.preprocessing import LabelEncoder\n",
    "from sklearn.ensemble import RandomForestClassifier\n",
    "from sklearn.metrics import classification_report, confusion_matrix, accuracy_score\n",
    "\n",
    "# Warnings\n",
    "import warnings\n",
    "warnings.filterwarnings(\"ignore\")"
   ]
  },
  {
   "cell_type": "code",
   "execution_count": null,
   "id": "8e82cef3",
   "metadata": {},
   "outputs": [],
   "source": [
    "# Load dataset\n",
    "df = pd.read_csv('customer_flight_bookings.csv')\n",
    "df.head()"
   ]
  },
  {
   "cell_type": "markdown",
   "id": "ba026fba",
   "metadata": {},
   "source": [
    "## 🧪 Exploratory Data Analysis"
   ]
  },
  {
   "cell_type": "code",
   "execution_count": null,
   "id": "846a3130",
   "metadata": {},
   "outputs": [],
   "source": [
    "# Shape and basic info\n",
    "print(\"Dataset shape:\", df.shape)\n",
    "df.info()\n",
    "\n",
    "# Null values\n",
    "sns.heatmap(df.isnull(), cbar=False, cmap=\"viridis\")\n",
    "plt.title(\"Missing Values\")\n",
    "plt.show()\n",
    "\n",
    "# Distribution of target\n",
    "sns.countplot(x='Booking_Status', data=df)\n",
    "plt.title(\"Booking Status Distribution\")\n",
    "plt.show()\n",
    "\n",
    "# Class vs Booking Status\n",
    "sns.countplot(x='Travel_Class', hue='Booking_Status', data=df)\n",
    "plt.title(\"Travel Class vs Booking Status\")\n",
    "plt.show()"
   ]
  },
  {
   "cell_type": "code",
   "execution_count": null,
   "id": "7d0e6802",
   "metadata": {},
   "outputs": [],
   "source": [
    "# Encode categorical variables\n",
    "label_encoders = {}\n",
    "for col in ['Gender', 'Booking_Mode', 'Travel_Class']:\n",
    "    le = LabelEncoder()\n",
    "    df[col] = le.fit_transform(df[col])\n",
    "    label_encoders[col] = le\n",
    "\n",
    "# Encode target\n",
    "df['Booking_Status'] = df['Booking_Status'].map({'Not Booked': 0, 'Booked': 1})\n",
    "\n",
    "# Features & Target\n",
    "X = df.drop('Booking_Status', axis=1)\n",
    "y = df['Booking_Status']\n",
    "\n",
    "# Train-test split\n",
    "X_train, X_test, y_train, y_test = train_test_split(X, y, test_size=0.2, random_state=42)"
   ]
  },
  {
   "cell_type": "code",
   "execution_count": null,
   "id": "3826bbe7",
   "metadata": {},
   "outputs": [],
   "source": [
    "# Random Forest Classifier\n",
    "rf_model = RandomForestClassifier(random_state=42)\n",
    "rf_model.fit(X_train, y_train)\n",
    "y_pred = rf_model.predict(X_test)\n",
    "\n",
    "# Accuracy\n",
    "print(\"Accuracy:\", accuracy_score(y_test, y_pred))"
   ]
  },
  {
   "cell_type": "code",
   "execution_count": null,
   "id": "26c3d597",
   "metadata": {},
   "outputs": [],
   "source": [
    "# Classification Report\n",
    "print(\"Classification Report:\\n\", classification_report(y_test, y_pred))\n",
    "\n",
    "# Confusion Matrix\n",
    "sns.heatmap(confusion_matrix(y_test, y_pred), annot=True, fmt='d', cmap='Blues')\n",
    "plt.title(\"Confusion Matrix\")\n",
    "plt.xlabel(\"Predicted\")\n",
    "plt.ylabel(\"Actual\")\n",
    "plt.show()"
   ]
  },
  {
   "cell_type": "markdown",
   "id": "31027438",
   "metadata": {},
   "source": [
    "## ✅ Conclusion\n",
    "\n",
    "- The Random Forest Classifier achieved an accuracy of approximately XX%.\n",
    "- Booking status is highly influenced by travel class, booking mode, and demographic features.\n",
    "- The model can assist airlines in targeting users more likely to book a flight.\n",
    "\n",
    "> Future work may involve trying other models (like XGBoost) or incorporating session-level activity data for improved predictions.\n"
   ]
  }
 ],
 "metadata": {},
 "nbformat": 4,
 "nbformat_minor": 5
}