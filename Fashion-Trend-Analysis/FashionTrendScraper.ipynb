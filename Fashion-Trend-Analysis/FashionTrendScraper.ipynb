{
 "cells": [
  {
   "cell_type": "markdown",
   "id": "d46288fd",
   "metadata": {},
   "source": [
    "# 👗 FashionTrendScraper – Analyzing Fashion Trends via Web Scraping\n",
    "\n",
    "This project uses Python and web scraping techniques to collect and analyze fashion product data from an e-commerce website. It extracts product names, prices, and ratings to uncover insights such as average pricing, rating distribution, and keyword trends in product titles.\n",
    "\n",
    "## 🔧 Technologies Used\n",
    "- Python\n",
    "- BeautifulSoup (for parsing HTML)\n",
    "- Requests (for HTTP requests)\n",
    "- Pandas (for data handling)\n",
    "- Matplotlib & Seaborn (for visualization)\n",
    "- WordCloud (for keyword analysis)\n",
    "\n",
    "## 🚀 How to Run\n",
    "1. Clone this repository.\n",
    "2. Install the required packages:\n",
    "   ```bash\n",
    "   pip install -r requirements.txt\n",
    "   ```\n",
    "3. Run the notebook:\n",
    "   ```bash\n",
    "   jupyter notebook FashionTrendScraper.ipynb\n",
    "   ```\n",
    "\n",
    "## 📌 Note\n",
    "This project is for educational purposes. Please ensure compliance with the website's `robots.txt` and terms of service before scraping.\n",
    "\n",
    "---\n"
   ]
  },
  {
   "cell_type": "markdown",
   "id": "3fc40fe5",
   "metadata": {},
   "source": [
    "# 🧵 Fashion Trend Analysis via Web Scraping\n",
    "\n",
    "**Objective:** Scrape product names, prices, and ratings from an e-commerce website and analyze fashion trends.\n",
    "\n",
    "> ⚠️ This example uses `http://books.toscrape.com` for demonstration. Replace it with a real fashion website for production."
   ]
  },
  {
   "cell_type": "code",
   "execution_count": null,
   "id": "59a4bcc0",
   "metadata": {},
   "outputs": [],
   "source": [
    "# 📦 Import Libraries\n",
    "import requests\n",
    "from bs4 import BeautifulSoup\n",
    "import pandas as pd\n",
    "import matplotlib.pyplot as plt\n",
    "import seaborn as sns\n",
    "from wordcloud import WordCloud\n",
    "\n",
    "# Notebook settings\n",
    "plt.style.use('seaborn')\n",
    "%matplotlib inline"
   ]
  },
  {
   "cell_type": "code",
   "execution_count": null,
   "id": "fad8b055",
   "metadata": {},
   "outputs": [],
   "source": [
    "# 🌐 Scrape Product Data\n",
    "base_url = \"http://books.toscrape.com/catalogue/page-{}.html\"\n",
    "headers = {\"User-Agent\": \"Mozilla/5.0\"}\n",
    "\n",
    "product_data = []\n",
    "\n",
    "for page in range(1, 6):\n",
    "    print(f\"Scraping page {page}...\")\n",
    "    response = requests.get(base_url.format(page), headers=headers)\n",
    "    soup = BeautifulSoup(response.content, \"html.parser\")\n",
    "\n",
    "    products = soup.find_all(\"article\", class_=\"product_pod\")\n",
    "\n",
    "    for product in products:\n",
    "        title = product.h3.a[\"title\"]\n",
    "        price = product.find(\"p\", class_=\"price_color\").text.replace(\"£\", \"\").strip()\n",
    "        rating_class = product.p[\"class\"][1]\n",
    "\n",
    "        rating_map = {\"One\": 1, \"Two\": 2, \"Three\": 3, \"Four\": 4, \"Five\": 5}\n",
    "        rating = rating_map.get(rating_class, None)\n",
    "\n",
    "        product_data.append({\n",
    "            \"Product Name\": title,\n",
    "            \"Price\": float(price),\n",
    "            \"Rating\": rating\n",
    "        })"
   ]
  },
  {
   "cell_type": "code",
   "execution_count": null,
   "id": "a13a38ec",
   "metadata": {},
   "outputs": [],
   "source": [
    "# 📊 Create DataFrame\n",
    "df = pd.DataFrame(product_data)\n",
    "df.head()"
   ]
  },
  {
   "cell_type": "code",
   "execution_count": null,
   "id": "5252e246",
   "metadata": {},
   "outputs": [],
   "source": [
    "# 🧹 Basic Data Cleaning\n",
    "print(\"Checking for missing values:\")\n",
    "print(df.isnull().sum())\n",
    "\n",
    "df.dropna(subset=[\"Rating\"], inplace=True)\n",
    "df.reset_index(drop=True, inplace=True)"
   ]
  },
  {
   "cell_type": "code",
   "execution_count": null,
   "id": "87f1de51",
   "metadata": {},
   "outputs": [],
   "source": [
    "# 📈 Rating Distribution\n",
    "plt.figure(figsize=(7, 4))\n",
    "sns.countplot(x=\"Rating\", data=df, palette=\"Set2\")\n",
    "plt.title(\"Distribution of Product Ratings\")\n",
    "plt.xlabel(\"Rating (1-5)\")\n",
    "plt.ylabel(\"Count\")\n",
    "plt.show()"
   ]
  },
  {
   "cell_type": "code",
   "execution_count": null,
   "id": "a029586b",
   "metadata": {},
   "outputs": [],
   "source": [
    "# 💰 Average Price by Rating\n",
    "plt.figure(figsize=(8, 5))\n",
    "sns.barplot(x=\"Rating\", y=\"Price\", data=df, palette=\"coolwarm\", ci=None)\n",
    "plt.title(\"Average Price by Rating\")\n",
    "plt.xlabel(\"Rating\")\n",
    "plt.ylabel(\"Average Price (£)\")\n",
    "plt.show()"
   ]
  },
  {
   "cell_type": "code",
   "execution_count": null,
   "id": "de227e72",
   "metadata": {},
   "outputs": [],
   "source": [
    "# 🔝 Top 10 Most Expensive Products\n",
    "df.sort_values(by=\"Price\", ascending=False).head(10)"
   ]
  },
  {
   "cell_type": "code",
   "execution_count": null,
   "id": "ebf63bbb",
   "metadata": {},
   "outputs": [],
   "source": [
    "# 🔤 Word Cloud for Product Titles\n",
    "text = \" \".join(df['Product Name'])\n",
    "wordcloud = WordCloud(background_color='white', width=800, height=400, colormap='plasma').generate(text)\n",
    "\n",
    "plt.figure(figsize=(10, 6))\n",
    "plt.imshow(wordcloud, interpolation='bilinear')\n",
    "plt.axis(\"off\")\n",
    "plt.title(\"Common Words in Product Titles\", fontsize=14)\n",
    "plt.show()"
   ]
  },
  {
   "cell_type": "code",
   "execution_count": null,
   "id": "b7f10927",
   "metadata": {},
   "outputs": [],
   "source": [
    "# 💾 Export Data\n",
    "df.to_csv(\"fashion_trend_data.csv\", index=False)\n",
    "print(\"Data exported to 'fashion_trend_data.csv'\")"
   ]
  },
  {
   "cell_type": "markdown",
   "id": "66bb8c34",
   "metadata": {},
   "source": [
    "---\n",
    "\n",
    "## 📈 Future Improvements\n",
    "- Implement sentiment analysis on user reviews.\n",
    "- Add category-wise trend comparison (e.g., shoes vs. tops).\n",
    "- Visualize price changes over time using historical scraping.\n",
    "- Automate the scraper with scheduling (e.g., using cron jobs or Airflow).\n"
   ]
  }
 ],
 "metadata": {
  "kernelspec": {
   "display_name": "Python 3",
   "language": "python",
   "name": "python3"
  },
  "language_info": {
   "name": "python",
   "version": "3.x"
  }
 },
 "nbformat": 4,
 "nbformat_minor": 5
}
